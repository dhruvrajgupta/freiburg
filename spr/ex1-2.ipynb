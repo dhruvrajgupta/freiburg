{
 "cells": [
  {
   "cell_type": "code",
   "execution_count": 1,
   "metadata": {
    "id": "CBzoG9bKmshs"
   },
   "outputs": [],
   "source": [
    "import numpy as np\n",
    "import matplotlib.pyplot as plt"
   ]
  },
  {
   "cell_type": "markdown",
   "metadata": {
    "id": "ARZL82jRmshw"
   },
   "source": [
    "# Part 1: Matrix Inversion\n",
    "Define a matrix and a vector and compute the result of a matrix-vector multiplication.\n",
    "Invert the matrix."
   ]
  },
  {
   "cell_type": "code",
   "execution_count": 26,
   "metadata": {
    "colab": {
     "background_save": true
    },
    "id": "qkZxPwRzmshx",
    "outputId": "df8d6267-04d3-4cf8-ceba-3bff3d9a1b36"
   },
   "outputs": [
    {
     "name": "stdout",
     "output_type": "stream",
     "text": [
      "Matrix-Vector multiplication : \n",
      "[ 8 17 26]\n",
      "\n",
      "\n",
      "Inverse of Matrix: \n",
      "[[-4.50359963e+15  9.00719925e+15 -4.50359963e+15]\n",
      " [ 9.00719925e+15 -1.80143985e+16  9.00719925e+15]\n",
      " [-4.50359963e+15  9.00719925e+15 -4.50359963e+15]]\n"
     ]
    }
   ],
   "source": [
    "matrix = np.array([\n",
    "    [1, 2, 3],\n",
    "    [4, 5, 6],\n",
    "    [7, 8, 9]\n",
    "])\n",
    "\n",
    "vector = np.array([0, 1, 2])\n",
    "\n",
    "multiplication = np.matmul(matrix, vector)\n",
    "print(\"Matrix-Vector multiplication : \")\n",
    "print(multiplication)\n",
    "print(\"\\n\")\n",
    "\n",
    "inverse = np.linalg.inv(matrix)\n",
    "print(\"Inverse of Matrix: \")\n",
    "print(inverse)"
   ]
  },
  {
   "cell_type": "markdown",
   "metadata": {
    "id": "vMQsQYzWmshx"
   },
   "source": [
    "# Part 2: Plotting\n",
    "\n",
    "### 1. Plot the guassian data"
   ]
  },
  {
   "cell_type": "code",
   "execution_count": 43,
   "metadata": {
    "id": "KGov1wXYmshx"
   },
   "outputs": [
    {
     "data": {
      "image/png": "[encoded data removed]",
      "text/plain": [
       "<Figure size 432x288 with 1 Axes>"
      ]
     },
     "metadata": {
      "needs_background": "light"
     },
     "output_type": "display_data"
    }
   ],
   "source": [
    "gaussian = np.load('data/gaussian.npz')['arr_0']\n",
    "plt.scatter(gaussian[:,0], gaussian[:,1])\n",
    "plt.xlabel(\"x-axis\")\n",
    "plt.ylabel(\"y-axis\")\n",
    "plt.show()"
   ]
  },
  {
   "cell_type": "markdown",
   "metadata": {
    "id": "uQSLIS2nmshx"
   },
   "source": [
    "### 2. Plot the gaussianplus data"
   ]
  },
  {
   "cell_type": "code",
   "execution_count": 40,
   "metadata": {
    "id": "IV6pRLRLmshx"
   },
   "outputs": [
    {
     "data": {
      "image/png": "[encoded data removed]",
      "text/plain": [
       "<Figure size 432x288 with 1 Axes>"
      ]
     },
     "metadata": {
      "needs_background": "light"
     },
     "output_type": "display_data"
    }
   ],
   "source": [
    "gaussianplus = np.load('data/gaussianplus.npz')['arr_0']\n",
    "plt.scatter(gaussianplus[:,0], gaussianplus[:,1])\n",
    "plt.xlabel(\"x-axis\")\n",
    "plt.ylabel(\"y-axis\")\n",
    "plt.show()"
   ]
  }
 ],
 "metadata": {
  "colab": {
   "name": "ex1.ipynb",
   "provenance": []
  },
  "kernelspec": {
   "display_name": "Python 3",
   "language": "python",
   "name": "python3"
  },
  "language_info": {
   "codemirror_mode": {
    "name": "ipython",
    "version": 3
   },
   "file_extension": ".py",
   "mimetype": "text/x-python",
   "name": "python",
   "nbconvert_exporter": "python",
   "pygments_lexer": "ipython3",
   "version": "3.8.5"
  }
 },
 "nbformat": 4,
 "nbformat_minor": 4
}
