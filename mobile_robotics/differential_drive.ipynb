{
 "cells": [
  {
   "cell_type": "code",
   "execution_count": 3,
   "id": "03535211-969e-4b23-960b-3b2d195f2af7",
   "metadata": {},
   "outputs": [],
   "source": [
    "import numpy as np\n",
    "import matplotlib.pyplot as plt\n",
    "pi = np.pi"
   ]
  },
  {
   "cell_type": "code",
   "execution_count": 4,
   "id": "e77a9c8b-46a9-4ce1-8339-2c26fa89b97d",
   "metadata": {},
   "outputs": [],
   "source": [
    "def diffdrive(x, y, theta, v_l, v_r, t, l):\n",
    "    \n",
    "    # for straight line\n",
    "    if(v_r == v_l):\n",
    "        x_n = x + v_l * t * np.cos(theta)\n",
    "        y_n = y + v_r * t * np.sin(theta)\n",
    "        theta_n = theta\n",
    "        \n",
    "    # for circular motion\n",
    "    else:\n",
    "        \n",
    "        # Radius\n",
    "        R = l/2.0 * ((v_l + v_r) / (v_r - v_l))\n",
    "        \n",
    "        # Angular velocity\n",
    "        omega = (v_r - v_l)/l\n",
    "        \n",
    "        # Centre of Curvature\n",
    "        ICC_x = x - R * np.sin(theta)\n",
    "        ICC_y = y + R * np.cos(theta)\n",
    "        \n",
    "        # change in angle\n",
    "        dtheta = omega * t\n",
    "        \n",
    "        # 0,0 of corrdinate\n",
    "        ini = np.array( [x - ICC_x, y - ICC_y, theta] )\n",
    "        #ini.shape = (3,1)\n",
    "        \n",
    "        T_robot = np.array([\n",
    "            [ np.cos(dtheta), -np.sin(dtheta), 0 ],\n",
    "            [ np.sin(dtheta),  np.cos(dtheta), 0 ],\n",
    "            [ 0, 0, 1 ]\n",
    "        ])\n",
    "        \n",
    "        result = np.matmul(T_robot,ini) + np.array([ ICC_x, ICC_y, dtheta])\n",
    "        \n",
    "        x_n = result[0]\n",
    "        y_n = result[1]\n",
    "        theta_n = result[2]\n",
    "    \n",
    "    return x_n, y_n, theta_n"
   ]
  },
  {
   "cell_type": "code",
   "execution_count": 38,
   "id": "dfa7d7cf-b4f8-47e7-bdee-e4e178387f2d",
   "metadata": {},
   "outputs": [
    {
     "name": "stdout",
     "output_type": "stream",
     "text": [
      "1.5 2.9 1.5707963267948966\n",
      "1.5 2.9 1.1707963267948966\n",
      "1.6396758098815527 3.035655185914644 0.3707963267948966\n"
     ]
    },
    {
     "data": {
      "image/png": "[encoded data removed]",
      "text/plain": [
       "<Figure size 432x288 with 1 Axes>"
      ]
     },
     "metadata": {
      "needs_background": "light"
     },
     "output_type": "display_data"
    }
   ],
   "source": [
    "\"\"\"\n",
    "b) After reaching position x = 1.5m, y = 2.0m, and θ = π/2 the robot \n",
    "   executes the following sequence of steering commands (l = 0.5m) :\n",
    "   \n",
    "   (a) c1 = (vl = 0.3m/s,vr = 0.3m/s,t = 3s)\n",
    "   (b) c2 = (vl = 0.1m/s,vr = −0.1m/s,t = 1s)\n",
    "   (c) c3 = (vl = 0.2m/s,vr = 0m/s,t = 2s)\n",
    "\"\"\"\n",
    "\n",
    "x, y, theta = 1.5, 2.0, pi/2.0\n",
    "l = 0.5\n",
    "\n",
    "#plt.gca().set_aspect('equal')\n",
    "\n",
    "# Initial position of the robot\n",
    "plt.quiver(x, y, np.cos(theta), np.sin(theta))\n",
    "\n",
    "# (a)\n",
    "v_l = 0.3\n",
    "v_r = 0.3\n",
    "t = 3.0\n",
    "x, y, theta = diffdrive(x, y, theta, v_l, v_r, t, l)\n",
    "plt.quiver(x, y, np.cos(theta), np.sin(theta))\n",
    "print(x, y, theta)\n",
    "\n",
    "# (b)\n",
    "v_l = 0.1\n",
    "v_r = -0.1\n",
    "t = 1\n",
    "x, y, theta = diffdrive(x, y, theta, v_l, v_r, t, l)\n",
    "plt.quiver(x, y, np.cos(theta), np.sin(theta))\n",
    "print(x, y, theta)\n",
    "\n",
    "# (c)\n",
    "v_l = 0.2\n",
    "v_r = 0.0\n",
    "t = 2\n",
    "x, y, theta = diffdrive(x, y, theta, v_l, v_r, t, l)\n",
    "plt.quiver(x, y, np.cos(theta), np.sin(theta))\n",
    "print(x, y, theta)\n",
    "\n",
    "plt.xlim(0.5, 2.5)\n",
    "plt.ylim(1.5, 3.5)\n",
    "\n",
    "plt.show()"
   ]
  },
  {
   "cell_type": "code",
   "execution_count": null,
   "id": "e5073a74-d9b8-4af0-8b99-0a6eb416cedb",
   "metadata": {},
   "outputs": [],
   "source": []
  }
 ],
 "metadata": {
  "kernelspec": {
   "display_name": "Python 3",
   "language": "python",
   "name": "python3"
  },
  "language_info": {
   "codemirror_mode": {
    "name": "ipython",
    "version": 3
   },
   "file_extension": ".py",
   "mimetype": "text/x-python",
   "name": "python",
   "nbconvert_exporter": "python",
   "pygments_lexer": "ipython3",
   "version": "3.8.5"
  }
 },
 "nbformat": 4,
 "nbformat_minor": 5
}
